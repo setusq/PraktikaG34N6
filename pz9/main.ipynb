{
 "cells": [
  {
   "cell_type": "markdown",
   "metadata": {},
   "source": [
    "<h2>Расстояние Левенштейна</h2>"
   ]
  },
  {
   "cell_type": "markdown",
   "metadata": {},
   "source": [
    "<i>Импорт библиотек</i>"
   ]
  },
  {
   "cell_type": "code",
   "execution_count": 4,
   "metadata": {},
   "outputs": [],
   "source": [
    "from fuzzywuzzy import fuzz\n",
    "from fuzzywuzzy import process\n",
    "from Levenshtein import distance as lev\n",
    "import time"
   ]
  },
  {
   "cell_type": "markdown",
   "metadata": {},
   "source": [
    "<i>Добавление функции Левенштейн</i>"
   ]
  },
  {
   "cell_type": "code",
   "execution_count": 5,
   "metadata": {},
   "outputs": [],
   "source": [
    "def levenstein(str_1, str_2):\n",
    "    n, m = len(str_1), len(str_2)\n",
    "    if n > m:\n",
    "        str_1, str_2 = str_2, str_1\n",
    "        n, m = m, n\n",
    "\n",
    "    current_row = range(n + 1)\n",
    "    for i in range(1, m + 1):\n",
    "        previous_row, current_row = current_row, [i] + [0] * n\n",
    "        for j in range(1, n + 1):\n",
    "            add, delete, change = previous_row[j] + 1, current_row[j - 1] + 1, previous_row[j - 1]\n",
    "            if str_1[j - 1] != str_2[i - 1]:\n",
    "                change += 1\n",
    "            current_row[j] = min(add, delete, change)\n",
    "\n",
    "    return current_row[n]\n"
   ]
  },
  {
   "cell_type": "markdown",
   "metadata": {},
   "source": [
    "Первым будем реализовывать решение с помощью библиотеки fuzzywuzzy, вторым - с помощью библиотеки python-Levenshtein, третьим - с помощью нашей функции"
   ]
  },
  {
   "cell_type": "markdown",
   "metadata": {},
   "source": [
    "<i>1. Самое обычное сравнение</i>"
   ]
  },
  {
   "cell_type": "code",
   "execution_count": 34,
   "metadata": {},
   "outputs": [
    {
     "name": "stdout",
     "output_type": "stream",
     "text": [
      "100\n",
      "Время выполнения: 0.0 секунд\n"
     ]
    }
   ],
   "source": [
    "start_time = time.time()\n",
    "\n",
    "a = fuzz.ratio('Привет мир', 'Привет мир')\n",
    "print(a)\n",
    "\n",
    "end_time = time.time()\n",
    "execution_time = end_time - start_time\n",
    "\n",
    "print(f\"Время выполнения: {execution_time} секунд\")"
   ]
  },
  {
   "cell_type": "code",
   "execution_count": 7,
   "metadata": {},
   "outputs": [
    {
     "name": "stdout",
     "output_type": "stream",
     "text": [
      "84\n"
     ]
    }
   ],
   "source": [
    "a = fuzz.ratio('Привет мир', 'Привт кир')\n",
    "print(a)"
   ]
  },
  {
   "cell_type": "code",
   "execution_count": 8,
   "metadata": {},
   "outputs": [
    {
     "name": "stdout",
     "output_type": "stream",
     "text": [
      "0\n",
      "Время выполнения: 0.0009968280792236328 секунд\n"
     ]
    }
   ],
   "source": [
    "start_time = time.time()\n",
    "a = levenstein('Привет мир', 'Привет мир')\n",
    "print(a)\n",
    "\n",
    "end_time = time.time()\n",
    "execution_time = end_time - start_time\n",
    "\n",
    "print(f\"Время выполнения: {execution_time} секунд\")"
   ]
  },
  {
   "cell_type": "code",
   "execution_count": 9,
   "metadata": {},
   "outputs": [
    {
     "name": "stdout",
     "output_type": "stream",
     "text": [
      "2\n"
     ]
    }
   ],
   "source": [
    "a = levenstein('Привет мир', 'Привт кир')\n",
    "print(a)"
   ]
  },
  {
   "cell_type": "code",
   "execution_count": 33,
   "metadata": {},
   "outputs": [
    {
     "name": "stdout",
     "output_type": "stream",
     "text": [
      "0\n",
      "Время выполнения: 0.0 секунд\n"
     ]
    }
   ],
   "source": [
    "start_time = time.time()\n",
    "\n",
    "\n",
    "a = lev('Привет мир', 'Привет мир')\n",
    "print(a)\n",
    "\n",
    "end_time = time.time()\n",
    "execution_time = end_time - start_time\n",
    "\n",
    "print(f\"Время выполнения: {execution_time} секунд\")\n"
   ]
  },
  {
   "cell_type": "code",
   "execution_count": 11,
   "metadata": {},
   "outputs": [
    {
     "name": "stdout",
     "output_type": "stream",
     "text": [
      "2\n"
     ]
    }
   ],
   "source": [
    "a = lev('Привет мир', 'Привт кир')\n",
    "print(a)"
   ]
  },
  {
   "cell_type": "markdown",
   "metadata": {},
   "source": [
    "Библиотека fuzzywuzzy выводит процент сходства первой строки со второй, а функция levenstein выводит количество отличных знаков во второй строке в соотношении с первой строкой, библиотека lev так же выводит количество отличных знаков во второй строке в соотношении с первой строкой. Время выполнения всех функций стремится к нулю, но дольше всех выполнение у нашего кода"
   ]
  },
  {
   "cell_type": "markdown",
   "metadata": {},
   "source": [
    "<i>2. Частичное сравнение</i>"
   ]
  },
  {
   "cell_type": "code",
   "execution_count": 35,
   "metadata": {},
   "outputs": [
    {
     "name": "stdout",
     "output_type": "stream",
     "text": [
      "100\n",
      "Время выполнения: 0.001001596450805664 секунд\n"
     ]
    }
   ],
   "source": [
    "start_time = time.time()\n",
    "\n",
    "a = fuzz.partial_ratio('Привет мир', 'Привет мир!')\n",
    "print(a)\n",
    "\n",
    "end_time = time.time()\n",
    "execution_time = end_time - start_time\n",
    "\n",
    "print(f\"Время выполнения: {execution_time} секунд\")"
   ]
  },
  {
   "cell_type": "code",
   "execution_count": 13,
   "metadata": {},
   "outputs": [
    {
     "name": "stdout",
     "output_type": "stream",
     "text": [
      "100\n"
     ]
    }
   ],
   "source": [
    "a = fuzz.partial_ratio('Привет мир', 'Люблю колбасу, Привет мир')\n",
    "print(a)"
   ]
  },
  {
   "cell_type": "code",
   "execution_count": 14,
   "metadata": {},
   "outputs": [
    {
     "name": "stdout",
     "output_type": "stream",
     "text": [
      "90\n"
     ]
    }
   ],
   "source": [
    "a = fuzz.partial_ratio('Привет мир', 'Люблю колбасу, привет мир')\n",
    "print(a) "
   ]
  },
  {
   "cell_type": "code",
   "execution_count": 36,
   "metadata": {},
   "outputs": [
    {
     "name": "stdout",
     "output_type": "stream",
     "text": [
      "1\n",
      "Время выполнения: 0.0009982585906982422 секунд\n"
     ]
    }
   ],
   "source": [
    "start_time = time.time()\n",
    "\n",
    "def levenstein(str_1, str_2):\n",
    "    n, m = len(str_1), len(str_2)\n",
    "    if n > m:\n",
    "        str_1, str_2 = str_2, str_1\n",
    "        n, m = m, n\n",
    "\n",
    "    current_row = range(n + 1)\n",
    "    for i in range(1, m + 1):\n",
    "        previous_row, current_row = current_row, [i] + [0] * n\n",
    "        for j in range(1, n + 1):\n",
    "            add, delete, change = previous_row[j] + 1, current_row[j - 1] + 1, previous_row[j - 1]\n",
    "            if str_1[j - 1] != str_2[i - 1]:\n",
    "                change += 1\n",
    "            current_row[j] = min(add, delete, change)\n",
    "\n",
    "    similarity = 0 if n == m and current_row[n] == 0 else current_row[n]\n",
    "\n",
    "    return similarity\n",
    "\n",
    "result = levenstein('Привет мир', 'Привет мир!')\n",
    "print(result)\n",
    "\n",
    "end_time = time.time()\n",
    "execution_time = end_time - start_time\n",
    "\n",
    "print(f\"Время выполнения: {execution_time} секунд\")"
   ]
  },
  {
   "cell_type": "code",
   "execution_count": 16,
   "metadata": {},
   "outputs": [
    {
     "name": "stdout",
     "output_type": "stream",
     "text": [
      "15\n"
     ]
    }
   ],
   "source": [
    "def levenstein(str_1, str_2):\n",
    "    n, m = len(str_1), len(str_2)\n",
    "    if n > m:\n",
    "        str_1, str_2 = str_2, str_1\n",
    "        n, m = m, n\n",
    "\n",
    "    current_row = range(n + 1)\n",
    "    for i in range(1, m + 1):\n",
    "        previous_row, current_row = current_row, [i] + [0] * n\n",
    "        for j in range(1, n + 1):\n",
    "            add, delete, change = previous_row[j] + 1, current_row[j - 1] + 1, previous_row[j - 1]\n",
    "            if str_1[j - 1] != str_2[i - 1]:\n",
    "                change += 1\n",
    "            current_row[j] = min(add, delete, change)\n",
    "\n",
    "    similarity = 0 if n == m and current_row[n] == 0 else current_row[n]\n",
    "\n",
    "    return similarity\n",
    "\n",
    "result = levenstein('Привет мир', 'Люблю колбасу, Привет мир')\n",
    "print(result)"
   ]
  },
  {
   "cell_type": "code",
   "execution_count": 17,
   "metadata": {},
   "outputs": [
    {
     "name": "stdout",
     "output_type": "stream",
     "text": [
      "16\n"
     ]
    }
   ],
   "source": [
    "def levenstein(str_1, str_2):\n",
    "    n, m = len(str_1), len(str_2)\n",
    "    if n > m:\n",
    "        str_1, str_2 = str_2, str_1\n",
    "        n, m = m, n\n",
    "\n",
    "    current_row = range(n + 1)\n",
    "    for i in range(1, m + 1):\n",
    "        previous_row, current_row = current_row, [i] + [0] * n\n",
    "        for j in range(1, n + 1):\n",
    "            add, delete, change = previous_row[j] + 1, current_row[j - 1] + 1, previous_row[j - 1]\n",
    "            if str_1[j - 1] != str_2[i - 1]:\n",
    "                change += 1\n",
    "            current_row[j] = min(add, delete, change)\n",
    "\n",
    "    similarity = 0 if n == m and current_row[n] == 0 else current_row[n]\n",
    "\n",
    "    return similarity\n",
    "\n",
    "result = levenstein('Привет мир', 'Люблю колбасу, привет мир')\n",
    "print(result)"
   ]
  },
  {
   "cell_type": "code",
   "execution_count": 37,
   "metadata": {},
   "outputs": [
    {
     "name": "stdout",
     "output_type": "stream",
     "text": [
      "1\n",
      "Время выполнения: 0.0 секунд\n"
     ]
    }
   ],
   "source": [
    "start_time = time.time()\n",
    "\n",
    "a = lev('Привет мир', 'Привет мир!')\n",
    "print(a)\n",
    "\n",
    "end_time = time.time()\n",
    "execution_time = end_time - start_time\n",
    "\n",
    "print(f\"Время выполнения: {execution_time} секунд\")"
   ]
  },
  {
   "cell_type": "markdown",
   "metadata": {},
   "source": [
    "Библиотека fuzzywuzzy выводит процент частичного сходства первой строки со второй, а функция levenstein выводит количество отличных символов, как и lev. Время выполнения так же стремится к 0, дольше всего - у нашей функции."
   ]
  },
  {
   "cell_type": "markdown",
   "metadata": {},
   "source": [
    "<i>3. Сравнение по токену</i>"
   ]
  },
  {
   "cell_type": "markdown",
   "metadata": {},
   "source": [
    "<i>1) Token Sort Ratio</i>"
   ]
  },
  {
   "cell_type": "code",
   "execution_count": 38,
   "metadata": {},
   "outputs": [
    {
     "name": "stdout",
     "output_type": "stream",
     "text": [
      "100\n",
      "Время выполнения: 0.0 секунд\n"
     ]
    }
   ],
   "source": [
    "start_time = time.time()\n",
    "\n",
    "a = fuzz.token_sort_ratio('Привет наш мир', 'мир наш Привет')\n",
    "print(a)\n",
    "\n",
    "end_time = time.time()\n",
    "execution_time = end_time - start_time\n",
    "\n",
    "print(f\"Время выполнения: {execution_time} секунд\")"
   ]
  },
  {
   "cell_type": "code",
   "execution_count": 20,
   "metadata": {},
   "outputs": [
    {
     "name": "stdout",
     "output_type": "stream",
     "text": [
      "78\n"
     ]
    }
   ],
   "source": [
    "a = fuzz.token_sort_ratio('Привет наш мир', 'мир наш любимый Привет')\n",
    "print(a)"
   ]
  },
  {
   "cell_type": "code",
   "execution_count": 21,
   "metadata": {},
   "outputs": [
    {
     "name": "stdout",
     "output_type": "stream",
     "text": [
      "100\n"
     ]
    }
   ],
   "source": [
    "a = fuzz.token_sort_ratio('1 2 Привет наш мир', '1 мир наш 2 ПриВЕт')\n",
    "print(a)"
   ]
  },
  {
   "cell_type": "code",
   "execution_count": 39,
   "metadata": {},
   "outputs": [
    {
     "name": "stdout",
     "output_type": "stream",
     "text": [
      "0\n",
      "Время выполнения: 0.0010018348693847656 секунд\n"
     ]
    }
   ],
   "source": [
    "start_time = time.time()\n",
    "\n",
    "def token_sort_ratio_l(str_1, str_2):\n",
    "    tokens_1 = sorted(str_1.split())\n",
    "    tokens_2 = sorted(str_2.split())\n",
    "\n",
    "    ratio = levenstein(' '.join(tokens_1), ' '.join(tokens_2))\n",
    "    return ratio\n",
    "a = token_sort_ratio_l('Привет наш мир', 'мир наш Привет')\n",
    "print(a)\n",
    "\n",
    "end_time = time.time()\n",
    "execution_time = end_time - start_time\n",
    "\n",
    "print(f\"Время выполнения: {execution_time} секунд\")"
   ]
  },
  {
   "cell_type": "code",
   "execution_count": 23,
   "metadata": {},
   "outputs": [
    {
     "name": "stdout",
     "output_type": "stream",
     "text": [
      "8\n"
     ]
    }
   ],
   "source": [
    "a = token_sort_ratio_l('Привет наш мир', 'мир наш любимый Привет')\n",
    "print(a)"
   ]
  },
  {
   "cell_type": "code",
   "execution_count": 24,
   "metadata": {},
   "outputs": [
    {
     "name": "stdout",
     "output_type": "stream",
     "text": [
      "2\n"
     ]
    }
   ],
   "source": [
    "a = token_sort_ratio_l('1 2 Привет наш мир', '1 мир наш 2 ПриВЕт')\n",
    "print(a)"
   ]
  },
  {
   "cell_type": "markdown",
   "metadata": {},
   "source": [
    "<i>2) Token Set Ratio</i>"
   ]
  },
  {
   "cell_type": "code",
   "execution_count": 40,
   "metadata": {},
   "outputs": [
    {
     "name": "stdout",
     "output_type": "stream",
     "text": [
      "100\n",
      "Время выполнения: 0.0010001659393310547 секунд\n"
     ]
    }
   ],
   "source": [
    "start_time = time.time()\n",
    "a = fuzz.token_set_ratio('Привет наш мир', 'мир мир наш наш наш ПриВЕт')\n",
    "print(a)\n",
    "\n",
    "end_time = time.time()\n",
    "execution_time = end_time - start_time\n",
    "\n",
    "print(f\"Время выполнения: {execution_time} секунд\")"
   ]
  },
  {
   "cell_type": "code",
   "execution_count": 41,
   "metadata": {},
   "outputs": [
    {
     "name": "stdout",
     "output_type": "stream",
     "text": [
      "10\n",
      "Время выполнения: 0.0009992122650146484 секунд\n"
     ]
    }
   ],
   "source": [
    "start_time = time.time()\n",
    "def token_set_ratio(str_1, str_2):\n",
    "    tokens_1 = set(str_1.split())\n",
    "    tokens_2 = set(str_2.split())\n",
    "\n",
    "    ratio = levenstein(' '.join(tokens_1), ' '.join(tokens_2))\n",
    "    return ratio\n",
    "\n",
    "a = token_set_ratio('Привет наш мир', 'мир мир наш наш наш ПриВЕт')\n",
    "print(a)\n",
    "\n",
    "end_time = time.time()\n",
    "execution_time = end_time - start_time\n",
    "\n",
    "print(f\"Время выполнения: {execution_time} секунд\")"
   ]
  },
  {
   "cell_type": "markdown",
   "metadata": {},
   "source": [
    "В библиотеке fuzzywuzzy слова сравниваются друг с другом, независимо от регистра или порядка, а функция levenstein выводит количество различных символов при сравнении слов друг с другом независимо от регистра и порядка. время выполнения так же стремится к 0, но дольше выполнился алгоритм с библиотекой fuzz"
   ]
  },
  {
   "cell_type": "markdown",
   "metadata": {},
   "source": [
    "<i>4. Продвинутое обычное сравнение</i>"
   ]
  },
  {
   "cell_type": "code",
   "execution_count": 42,
   "metadata": {},
   "outputs": [
    {
     "name": "stdout",
     "output_type": "stream",
     "text": [
      "100\n",
      "Время выполнения: 0.0 секунд\n"
     ]
    }
   ],
   "source": [
    "start_time = time.time()\n",
    "a = fuzz.WRatio('Привет наш мир', '!ПриВЕт наш мир!')\n",
    "print(a)\n",
    "end_time = time.time()\n",
    "execution_time = end_time - start_time\n",
    "\n",
    "print(f\"Время выполнения: {execution_time} секунд\")"
   ]
  },
  {
   "cell_type": "code",
   "execution_count": 28,
   "metadata": {},
   "outputs": [
    {
     "name": "stdout",
     "output_type": "stream",
     "text": [
      "97\n"
     ]
    }
   ],
   "source": [
    "a = fuzz.WRatio('Привет наш мир', '!ПриВЕт, наш мир!')\n",
    "print(a)"
   ]
  },
  {
   "cell_type": "code",
   "execution_count": 43,
   "metadata": {},
   "outputs": [
    {
     "name": "stdout",
     "output_type": "stream",
     "text": [
      "2\n",
      "Время выполнения: 0.0 секунд\n"
     ]
    }
   ],
   "source": [
    "start_time = time.time()\n",
    "def WRatio(str_1, str_2):\n",
    "    str_1 = str_1.lower()\n",
    "    str_2 = str_2.lower()\n",
    "\n",
    "    ratio = levenstein(str_1, str_2)\n",
    "    return ratio\n",
    "\n",
    "a = WRatio('Привет наш мир', '!ПриВЕт наш мир!')\n",
    "print(a)\n",
    "end_time = time.time()\n",
    "execution_time = end_time - start_time\n",
    "\n",
    "print(f\"Время выполнения: {execution_time} секунд\")"
   ]
  },
  {
   "cell_type": "code",
   "execution_count": 30,
   "metadata": {},
   "outputs": [
    {
     "name": "stdout",
     "output_type": "stream",
     "text": [
      "3\n"
     ]
    }
   ],
   "source": [
    "def WRatio(str_1, str_2):\n",
    "    str_1 = str_1.lower()\n",
    "    str_2 = str_2.lower()\n",
    "\n",
    "    ratio = levenstein(str_1, str_2)\n",
    "    return ratio\n",
    "\n",
    "a = WRatio('Привет наш мир', '!ПриВЕт, наш мир!')\n",
    "print(a)"
   ]
  },
  {
   "cell_type": "markdown",
   "metadata": {},
   "source": [
    "Библиотека fuzzywuzzy выводит процент частичного сходства первой строки со второй, а функция levenstein выводит количество отличных символов. Время выполнения обоих алгоритомв стремится к 0."
   ]
  },
  {
   "cell_type": "markdown",
   "metadata": {},
   "source": [
    "<i>5. Работа со списком</i>"
   ]
  },
  {
   "cell_type": "code",
   "execution_count": 44,
   "metadata": {},
   "outputs": [
    {
     "name": "stdout",
     "output_type": "stream",
     "text": [
      "[('Саратов', 100), ('Самара', 62)]\n",
      "Время выполнения: 0.0010001659393310547 секунд\n"
     ]
    }
   ],
   "source": [
    "start_time = time.time()\n",
    "city = [\"Москва\", \"Санкт-Петербург\", \"Саратов\", \"Краснодар\", \"Воронеж\", \"Омск\", \"Екатеринбург\", \"Орск\", \"Красногорск\", \"Красноярск\", \"Самара\"]\n",
    "a = process.extract(\"Саратов\", city, limit=2)\n",
    "print(a)\n",
    "end_time = time.time()\n",
    "execution_time = end_time - start_time\n",
    "\n",
    "print(f\"Время выполнения: {execution_time} секунд\")\n"
   ]
  },
  {
   "cell_type": "code",
   "execution_count": 32,
   "metadata": {},
   "outputs": [
    {
     "name": "stdout",
     "output_type": "stream",
     "text": [
      "('Красногорск', 90)\n"
     ]
    }
   ],
   "source": [
    "city = [\"Москва\", \"Санкт-Петербург\", \"Саратов\", \"Краснодар\", \"Воронеж\", \"Омск\", \"Екатеринбург\", \"Орск\", \"Красногорск\", \"Красноярск\", \"Самара\"]\n",
    "a = process.extractOne(\"Краногрск\", city)\n",
    "print(a)"
   ]
  },
  {
   "cell_type": "markdown",
   "metadata": {},
   "source": [
    "Функция библиотеки fuzz выводит процент сходства первой строки с элементом из списка. Алгоритом выполняется быстро, на коротких примерах выполнение стремится к 0, как и в предыдущих задачах. Решить задачу со списком с помощью нашей функции не предоставляется возможным."
   ]
  }
 ],
 "metadata": {
  "kernelspec": {
   "display_name": "Python 3",
   "language": "python",
   "name": "python3"
  },
  "language_info": {
   "codemirror_mode": {
    "name": "ipython",
    "version": 3
   },
   "file_extension": ".py",
   "mimetype": "text/x-python",
   "name": "python",
   "nbconvert_exporter": "python",
   "pygments_lexer": "ipython3",
   "version": "3.10.11"
  }
 },
 "nbformat": 4,
 "nbformat_minor": 2
}

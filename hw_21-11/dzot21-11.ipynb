{
 "cells": [
  {
   "cell_type": "code",
   "execution_count": 1,
   "id": "fae25e76-eebc-4ac8-ad85-6172f699a0e0",
   "metadata": {},
   "outputs": [],
   "source": [
    "import numpy as np\n",
    "import matplotlib.pyplot as plt"
   ]
  },
  {
   "cell_type": "code",
   "execution_count": 2,
   "id": "8fbaffd8-0c6d-4f9d-8c2c-f2826be519c4",
   "metadata": {},
   "outputs": [],
   "source": [
    "def act(x):\n",
    "    return 0 if x < 0.5 else 1"
   ]
  },
  {
   "cell_type": "code",
   "execution_count": 3,
   "id": "57e99378-242d-411d-9133-de159f61bb74",
   "metadata": {},
   "outputs": [],
   "source": [
    "def go(house, rock, attr):\n",
    "    x = np.array([house, rock, attr])\n",
    "    w11 = [0.3, 0.3, 0]\n",
    "    w12 = [0.4, -0.5, 1]\n",
    "    weight1 = np.array([w11,w12]) #матрица 2x3\n",
    "    weight2 = np.array([-1,1])    #вектор 1x3\n",
    "\n",
    "    sum_hidden = np.dot(weight1, x)     #вычисляем сумму на входах нейронов скрытого слоя\n",
    "    print('Значения сумм на нейронах скрытого слоя: '+str(sum_hidden))\n",
    "\n",
    "    out_hidden = np.array([act(x) for x in sum_hidden])\n",
    "    print('Значения на выходных нейронов скрытого слоя: '+str(out_hidden))\n",
    "\n",
    "    sum_end = np.dot(weight2,out_hidden)\n",
    "    y = act(sum_end)\n",
    "    print('Выходное значение НС: '+str(y))\n",
    "\n",
    "    return y"
   ]
  },
  {
   "cell_type": "code",
   "execution_count": 4,
   "id": "1e7080aa-edd1-4763-b7e2-ecfb5b042a3c",
   "metadata": {},
   "outputs": [],
   "source": [
    "house = 1\n",
    "rock = 0\n",
    "attr = 1"
   ]
  },
  {
   "cell_type": "code",
   "execution_count": 5,
   "id": "5c128648-5225-4786-875f-356ff738a060",
   "metadata": {},
   "outputs": [
    {
     "name": "stdout",
     "output_type": "stream",
     "text": [
      "Значения сумм на нейронах скрытого слоя: [0.3 1.4]\n",
      "Значения на выходных нейронов скрытого слоя: [0 1]\n",
      "Выходное значение НС: 1\n",
      "Ты мне нравишься\n"
     ]
    }
   ],
   "source": [
    "res = go(house, rock, attr)\n",
    "if res ==1:\n",
    "    print('Ты мне нравишься')\n",
    "else:\n",
    "    print(\"Созвонимся\")"
   ]
  },
  {
   "cell_type": "code",
   "execution_count": 6,
   "id": "026d12f6-9cb6-436a-ae01-d297bee91f91",
   "metadata": {},
   "outputs": [
    {
     "name": "stdout",
     "output_type": "stream",
     "text": [
      "Класс С1\n",
      "Класс С1\n",
      "Класс С1\n",
      "Класс С1\n",
      "Класс С1\n"
     ]
    },
    {
     "data": {
      "image/png": "[encoded data removed]",
      "text/plain": [
       "<Figure size 640x480 with 1 Axes>"
      ]
     },
     "metadata": {},
     "output_type": "display_data"
    }
   ],
   "source": [
    "N=5\n",
    "b=3\n",
    "x1 = np.random.random(N)\n",
    "x2 = x1 + [np.random.randint(10)/10 for i in range(N)] + b\n",
    "C1 = [x1,x2]\n",
    "\n",
    "x1 = np.random.random(N)\n",
    "x2 = x1 - [np.random.randint(10)/10 for i in range(N)] - 0.1 + b\n",
    "C2 = [x1,x2]\n",
    "\n",
    "f = [0+b,1+b]\n",
    "w2 = 0.5\n",
    "w3 = -b*w2\n",
    "w = np.array([-w2, w2, w3])\n",
    "for i in range(N):\n",
    "    x = np.array([C1[0][i], C1[1][i], 1])\n",
    "    y = np.dot(w, x)\n",
    "    if y>= 0:\n",
    "        print(\"Класс С1\")\n",
    "    else:\n",
    "        print(\"Класс С2\")\n",
    "plt.scatter(C1[0][:], C1[1][:], s=10, c='red')\n",
    "plt.scatter(C2[0][:], C2[1][:], s=10, c='blue')\n",
    "plt.plot(f)\n",
    "plt.grid(True)\n",
    "plt.show()\n",
    "    "
   ]
  },
  {
   "cell_type": "code",
   "execution_count": 11,
   "id": "f2de832c-676f-4721-944c-ba145821f499",
   "metadata": {},
   "outputs": [
    {
     "name": "stdout",
     "output_type": "stream",
     "text": [
      "1 1\n",
      "0 0\n"
     ]
    }
   ],
   "source": [
    "def act(x):\n",
    "    return 0 if x <= 0 else 1\n",
    "def go(C):\n",
    "    x = np.array([C[0], C[1], 1])\n",
    "    w1 = [1, 1, -1.5]\n",
    "    w2 = [1, 1, -0.5]\n",
    "    w_hidden = np.array([w1, w2])\n",
    "    w_out = np.array([-1, 1, -0.5])\n",
    "\n",
    "    sum = np.dot(w_hidden, x)     \n",
    "    out = [act(x) for x in sum]\n",
    "    out.append(1)\n",
    "    out = np.array(out)\n",
    "\n",
    "    sum = np.dot(w_out, out)\n",
    "    y = act(sum)\n",
    "    return y\n",
    "\n",
    "C1 = [(1,0), (0,1)]\n",
    "C2 = [(0,0), (1,1)]\n",
    "\n",
    "print( go(C1[0]), go(C1[1]) )\n",
    "print( go(C2[0]), go(C2[1]) )"
   ]
  }
 ],
 "metadata": {
  "kernelspec": {
   "display_name": "Python 3 (ipykernel)",
   "language": "python",
   "name": "python3"
  },
  "language_info": {
   "codemirror_mode": {
    "name": "ipython",
    "version": 3
   },
   "file_extension": ".py",
   "mimetype": "text/x-python",
   "name": "python",
   "nbconvert_exporter": "python",
   "pygments_lexer": "ipython3",
   "version": "3.11.5"
  }
 },
 "nbformat": 4,
 "nbformat_minor": 5
}
